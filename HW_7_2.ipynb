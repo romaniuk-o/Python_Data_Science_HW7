{
  "nbformat": 4,
  "nbformat_minor": 0,
  "metadata": {
    "colab": {
      "provenance": [],
      "authorship_tag": "ABX9TyMaiB/ET3azMRjsUXIN7+u0",
      "include_colab_link": true
    },
    "kernelspec": {
      "name": "python3",
      "display_name": "Python 3"
    },
    "language_info": {
      "name": "python"
    }
  },
  "cells": [
    {
      "cell_type": "markdown",
      "metadata": {
        "id": "view-in-github",
        "colab_type": "text"
      },
      "source": [
        "<a href=\"https://colab.research.google.com/github/romaniuk-o/Python_Data_Science_HW7/blob/main/HW_7_2.ipynb\" target=\"_parent\"><img src=\"https://colab.research.google.com/assets/colab-badge.svg\" alt=\"Open In Colab\"/></a>"
      ]
    },
    {
      "cell_type": "markdown",
      "source": [
        "# **Завдання 2**\n",
        "Побудуйте лінійний класифікатор подібно до того, як ми це робили в завданні 1 на датасеті Іриса Фішера. Оформіть рішення у вигляді jupyter ноутбука."
      ],
      "metadata": {
        "id": "d5GAz8eQmbso"
      }
    },
    {
      "cell_type": "code",
      "execution_count": null,
      "metadata": {
        "id": "3Vu14w-1lCsG"
      },
      "outputs": [],
      "source": []
    }
  ]
}