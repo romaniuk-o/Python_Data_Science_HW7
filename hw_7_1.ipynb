{
  "nbformat": 4,
  "nbformat_minor": 0,
  "metadata": {
    "colab": {
      "provenance": [],
      "authorship_tag": "ABX9TyPuYuySyHEn5dJEcowTscrO",
      "include_colab_link": true
    },
    "kernelspec": {
      "name": "python3",
      "display_name": "Python 3"
    },
    "language_info": {
      "name": "python"
    }
  },
  "cells": [
    {
      "cell_type": "markdown",
      "metadata": {
        "id": "view-in-github",
        "colab_type": "text"
      },
      "source": [
        "<a href=\"https://colab.research.google.com/github/romaniuk-o/Python_Data_Science_HW7/blob/main/hw_7_1.ipynb\" target=\"_parent\"><img src=\"https://colab.research.google.com/assets/colab-badge.svg\" alt=\"Open In Colab\"/></a>"
      ]
    },
    {
      "cell_type": "markdown",
      "source": [
        "# **Завдання 1**\n",
        "\n",
        "У цьому завданні необхідно створити свій власний лінійний класифікатор, а рішення рекомендується оформити у вигляді jupyter ноутбука.\n",
        "\n",
        "Ми колись вже спостерігали деякі \"іграшкові\" датасети, які доступні в бібліотеці sklearn. Спробуємо створити лінійну модель для одного такого датасету. Для охочих повний список можна знайти тут та тут. Нас же цікавитиме \"винний\" датасет, інформацію про який можна знайти тут.\n"
      ],
      "metadata": {
        "id": "YcNq-2HFlYtE"
      }
    },
    {
      "cell_type": "markdown",
      "source": [
        "1. Завантажте датасет, виконавши наступний код\n",
        "```\n",
        "from sklearn.datasets import load_wine\n",
        "wine_dataset = load_wine()\n",
        "```\n",
        "\n"
      ],
      "metadata": {
        "id": "2kBNqRkjlczF"
      }
    },
    {
      "cell_type": "code",
      "source": [],
      "metadata": {
        "id": "JozNHzTImAZe"
      },
      "execution_count": null,
      "outputs": []
    },
    {
      "cell_type": "markdown",
      "source": [
        "2. Вивчіть документацію функції train_test_split. З її допомогою датасет можна розділити на тренувальну та тестову вибірки. Перша потрібна для навчання моделі, а друга - для оцінки якості моделі."
      ],
      "metadata": {
        "id": "Q8RLa2yClw9u"
      }
    },
    {
      "cell_type": "code",
      "source": [],
      "metadata": {
        "id": "GemBTB9wlyzm"
      },
      "execution_count": null,
      "outputs": []
    },
    {
      "cell_type": "markdown",
      "source": [
        "3. Розділіть wine_dataset на навчальну та тестову вибірки."
      ],
      "metadata": {
        "id": "jSQIwpbNl9j-"
      }
    },
    {
      "cell_type": "code",
      "source": [],
      "metadata": {
        "id": "nIalSggKl_0o"
      },
      "execution_count": null,
      "outputs": []
    },
    {
      "cell_type": "markdown",
      "source": [
        "4. Навчіть модель на тренувальній вибірці та оцініть її якість на тестовій."
      ],
      "metadata": {
        "id": "ahJzxk9zl2el"
      }
    },
    {
      "cell_type": "code",
      "source": [],
      "metadata": {
        "id": "qYck954tlj7V"
      },
      "execution_count": null,
      "outputs": []
    },
    {
      "cell_type": "markdown",
      "source": [
        "5. Спробуйте повторити кроки 3 і 4 розбивши датасет на навчальну та тестову вибірки в якійсь власній пропорції. Як це вплинуло на якість моделі?"
      ],
      "metadata": {
        "id": "rzmBis_RmBse"
      }
    },
    {
      "cell_type": "code",
      "execution_count": null,
      "metadata": {
        "id": "_PS0RWlgbIvI"
      },
      "outputs": [],
      "source": []
    }
  ]
}