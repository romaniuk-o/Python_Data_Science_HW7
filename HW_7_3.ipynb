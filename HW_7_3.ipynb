{
  "nbformat": 4,
  "nbformat_minor": 0,
  "metadata": {
    "colab": {
      "provenance": [],
      "authorship_tag": "ABX9TyNdl9VKKQyWXfdo27LXn82d",
      "include_colab_link": true
    },
    "kernelspec": {
      "name": "python3",
      "display_name": "Python 3"
    },
    "language_info": {
      "name": "python"
    }
  },
  "cells": [
    {
      "cell_type": "markdown",
      "metadata": {
        "id": "view-in-github",
        "colab_type": "text"
      },
      "source": [
        "<a href=\"https://colab.research.google.com/github/romaniuk-o/Python_Data_Science_HW7/blob/main/HW_7_3.ipynb\" target=\"_parent\"><img src=\"https://colab.research.google.com/assets/colab-badge.svg\" alt=\"Open In Colab\"/></a>"
      ]
    },
    {
      "cell_type": "markdown",
      "source": [
        "# **Завдання 3#**\n",
        "У цьому завданні ми маємо побудувати лінійний регресор. На цей раз ми будемо працювати з даними про захворювання діабетом. Аналогічно до завдання 1 виконайте наступні кроки\n",
        "\n",
        "\n",
        "\n",
        "\n",
        "\n"
      ],
      "metadata": {
        "id": "SVpnC_womyZX"
      }
    },
    {
      "cell_type": "markdown",
      "source": [
        "1. Завантажте датасет."
      ],
      "metadata": {
        "id": "-Jxm5rg3m4Gv"
      }
    },
    {
      "cell_type": "code",
      "source": [],
      "metadata": {
        "id": "z5nGmFZOnKTO"
      },
      "execution_count": null,
      "outputs": []
    },
    {
      "cell_type": "markdown",
      "source": [
        "2. Розділіть його на тренувальну та тестову вибірки."
      ],
      "metadata": {
        "id": "xcvkjBl3m4Ko"
      }
    },
    {
      "cell_type": "code",
      "source": [],
      "metadata": {
        "id": "kOJW3mZonKw4"
      },
      "execution_count": null,
      "outputs": []
    },
    {
      "cell_type": "markdown",
      "source": [
        "3. На тренувальній вибірці навчіть лінійну модель."
      ],
      "metadata": {
        "id": "RcQabdk4m4N3"
      }
    },
    {
      "cell_type": "code",
      "source": [],
      "metadata": {
        "id": "8gGYlZecnLJe"
      },
      "execution_count": null,
      "outputs": []
    },
    {
      "cell_type": "markdown",
      "source": [
        "4. Оцініть її якість на тестовій вибірці."
      ],
      "metadata": {
        "id": "c1_HjzwUnCuH"
      }
    },
    {
      "cell_type": "code",
      "source": [],
      "metadata": {
        "id": "nkB1uuf2nLmf"
      },
      "execution_count": null,
      "outputs": []
    },
    {
      "cell_type": "markdown",
      "source": [
        "5. Спробуйте повторити кроки 1-4 розбивши датасет на навчальну та тестову вибірки в якійсь власній пропорції. Як це позначилося на якості моделі?"
      ],
      "metadata": {
        "id": "fnq1J3gknH2_"
      }
    },
    {
      "cell_type": "code",
      "source": [],
      "metadata": {
        "id": "ZaWPE0zMnMGu"
      },
      "execution_count": null,
      "outputs": []
    }
  ]
}